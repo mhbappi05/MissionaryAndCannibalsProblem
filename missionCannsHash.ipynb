from collections import deque

class State:
    def __init__(self, missionaries, cannibals, boat, prev=None):
        self.missionaries = missionaries
        self.cannibals = cannibals
        self.boat = boat
        self.prev = prev

    def is_valid(self):
        if self.missionaries < 0 or self.cannibals < 0 or self.missionaries > 3 or self.cannibals > 3:
            return False
        if self.missionaries > 0 and self.missionaries < self.cannibals:
            return False
        if self.missionaries > 0 and (3 - self.missionaries) < (3 - self.cannibals):
            return False
        return True

    def is_goal(self):
        return self.missionaries == 0 and self.cannibals == 0 and self.boat == 0

    def __eq__(self, other):
        return (self.missionaries == other.missionaries and 
                self.cannibals == other.cannibals and 
                self.boat == other.boat)

    def __hash__(self):
        return hash((self.missionaries, self.cannibals, self.boat))

def get_successors(state):
    successors = []
    if state.boat == 1:
        moves = [(1, 0), (2, 0), (0, 1), (0, 2), (1, 1)]
        for move in moves:
            new_state = State(state.missionaries - move[0], state.cannibals - move[1], 0, state)
            if new_state.is_valid():
                successors.append(new_state)
    else:
        moves = [(1, 0), (2, 0), (0, 1), (0, 2), (1, 1)]
        for move in moves:
            new_state = State(state.missionaries + move[0], state.cannibals + move[1], 1, state)
            if new_state.is_valid():
                successors.append(new_state)
    return successors

def breadth_first_search():
    initial_state = State(3, 3, 1)
    if initial_state.is_goal():
        return initial_state
    frontier = deque([initial_state])
    explored = set()
    while frontier:
        state = frontier.popleft()
        if state.is_goal():
            return state
        explored.add(state)
        for successor in get_successors(state):
            if successor not in explored and successor not in frontier:
                frontier.append(successor)
    return None

def print_solution(solution):
    path = []
    state = solution
    while state:
        path.append(state)
        state = state.prev
    for step in reversed(path):
        print(f"Missionaries: {step.missionaries}, Cannibals: {step.cannibals}, Boat: {step.boat}")

solution = breadth_first_search()
if solution:
    print_solution(solution)
else:
    print("No solution found.")
