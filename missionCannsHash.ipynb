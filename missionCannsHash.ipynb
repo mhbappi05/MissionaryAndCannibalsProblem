from collections import deque

class State:
    def __init__(self, mission, canns, boat, prev=None):
        self.mission = mission
        self.canns = canns
        self.boat = boat
        self.prev = prev

    def is_valid(self):
        # Check for valid state conditions
        if self.mission < 0 or self.canns < 0 or self.mission > 3 or self.canns > 3:
            return False
        if self.mission > 0 and self.mission < self.canns:
            return False
        if (3 - self.mission) > 0 and (3 - self.mission) < (3 - self.canns):
            return False
        return True

    def is_goal(self):
        return self.mission == 0 and self.canns == 0 and self.boat == 0

    def __eq__(self, other):
        return self.mission == other.mission and self.canns == other.canns and self.boat == other.boat

    def __hash__(self):
        return hash((self.mission, self.canns, self.boat))

def get_successors(state):
    successors = []
    moves = [(1, 0), (2, 0), (0, 1), (0, 2), (1, 1)]

    if state.boat == 1:
        for move in moves:
            new_state = State(state.mission - move[0], state.canns - move[1], 0, state)
            if new_state.is_valid():
                successors.append(new_state)
    else:
        for move in moves:
            new_state = State(state.mission + move[0], state.canns + move[1], 1, state)
            if new_state.is_valid():
                successors.append(new_state)

    return successors

def breadth_first_search():
    initial_state = State(3, 3, 1)
    if initial_state.is_goal():
        return initial_state

    frontier = deque([initial_state])
    explored = set()

    while frontier:
        state = frontier.popleft()

        if state.is_goal():
            return state

        explored.add(state)

        for successor in get_successors(state):
            if successor not in explored and successor not in frontier:
                frontier.append(successor)

    return None

def print_solution(solution):
    path = []
    state = solution
    while state:
        path.append(state)
        state = state.prev
    for step in reversed(path):
        print(f"Missionaries: {step.mission}, Cannibals: {step.canns}, Boat: {step.boat}")

solution = breadth_first_search()
if solution:
    print_solution(solution)
else:
    print("No solution found.")
