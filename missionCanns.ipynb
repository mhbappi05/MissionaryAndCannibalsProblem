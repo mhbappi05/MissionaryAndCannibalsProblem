from collections import deque

def is_valid_state(state):
  # Unpack state variables
  missionaries_left, cannibals_left, boat_side = state

  # Check if cannibals outnumber missionaries on either side
  if (missionaries_left > 0 and cannibals_left > missionaries_left) or \
     (missionaries_left - 2 < 0 and cannibals_left > missionaries_left - 2):
    return False
  return True

def generate_next_states(state):
  # Unpack state variables
  missionaries_left, cannibals_left, boat_side = state
  next_states = []

  # Generate all possible moves (up to 2 people)
  for num_missionaries in range(min(missionaries_left, 2) + 1):
    for num_cannibals in range(min(cannibals_left, 2 - num_missionaries) + 1):
      new_missionaries_left = missionaries_left - num_missionaries
      new_cannibals_left = cannibals_left - num_cannibals
      new_boat_side = "R" if boat_side == "L" else "L"
      next_state = (new_missionaries_left, new_cannibals_left, new_boat_side)
      if is_valid_state(next_state):
        next_states.append(next_state)
  return next_states

def solve_missionaries_cannibals(initial_state):
  # Initialize queue and visited set
  queue = deque([initial_state])
  visited = set()

  while queue:
    current_state = queue.popleft()
    visited.add(current_state)

    # Check if goal state is reached
    if current_state[0] == 0 and current_state[1] == 0 and current_state[2] == "R":
      return True

    # Generate next states and add to queue if not visited
    for next_state in generate_next_states(current_state):
      if next_state not in visited:
        queue.append(next_state)

  # No solution found
  return False

# Initial state: 3 missionaries, 3 cannibals on the left side
initial_state = (3, 3, "L")

if solve_missionaries_cannibals(initial_state):
  print("Solution exists")
else:
  print("No solution found")
